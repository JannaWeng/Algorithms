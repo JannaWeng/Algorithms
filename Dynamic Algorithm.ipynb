{
 "cells": [
  {
   "cell_type": "markdown",
   "metadata": {},
   "source": [
    "# OBJECTIVE"
   ]
  },
  {
   "cell_type": "markdown",
   "metadata": {},
   "source": [
    "0-1 Knapsack Problem is picked for this practice of Dynamic Algorithm.  "
   ]
  },
  {
   "cell_type": "markdown",
   "metadata": {},
   "source": [
    "# DEFINE FUNCTION"
   ]
  },
  {
   "cell_type": "code",
   "execution_count": 3,
   "metadata": {},
   "outputs": [],
   "source": [
    "# Use Dynamic Algorithm to creat a function. \n",
    "def knapSack(W, wt, val, n): \n",
    "    \n",
    "# Construct a temporary array of K[n][W] filled with 0s. \n",
    "# This array is with n rows(counting from 0) and W columns(counting from 0)\n",
    "    K = [[0 for x in range(W+1)] for x in range(n+1)] \n",
    "    \n",
    "# Build table K[i][w] in bottom up manner \n",
    "# K[i][w] will denote maximum value of 'w'(weight) all values from '0th to ith'\n",
    "    for i in range(n+1): \n",
    "        for w in range(W+1): \n",
    "            \n",
    "# The 0th row and 0 column are always 0 value. \n",
    "            if i==0 or w==0: \n",
    "                K[i][w] = 0\n",
    "            \n",
    "# Consider the new item with weight that can only fill the considered weight\n",
    "# Replace the temporary value of 0 \n",
    "# By the max value between the new item plus the remaining weight of the existing item if possible, and the existing item. \n",
    "            elif wt[i-1] <= w:\n",
    "                K[i][w] = max(val[i-1] + K[i-1][w-wt[i-1]],  K[i-1][w]) \n",
    "# If the weight can not fulfill the new item's weight\n",
    "# Use the previous row's value\n",
    "            else: \n",
    "                K[i][w] = K[i-1][w]\n",
    "            \n",
    "# Return the last value of the array. \n",
    "    return K[n][W] "
   ]
  },
  {
   "cell_type": "markdown",
   "metadata": {},
   "source": [
    "# APPLICATION SCENARIOS"
   ]
  },
  {
   "cell_type": "markdown",
   "metadata": {},
   "source": [
    "Scenario 1: Cash Loading to a truck\n",
    "A lot of time banking business have to use trucks for physical cash transactions between their different banking branches. \n",
    "\n",
    "Assumption: \n",
    "\n",
    "a. One banking business would like to transport the maximum value of cash from one brach to another. \n",
    "\n",
    "b. Different cash values amounts are categorized and boxed. \n",
    "  - One box of 1 dollar bills: value = 10000, weight= 10\n",
    "  - One box of 5 dollar bills: value = 50000, weight= 40\n",
    "  - One box of 10 dollar bills: value = 60000, weight= 50\n",
    "  - One box of 20 dollar bills: value = 100000, weight= 80\n",
    "  - One box of 50 dollar bills: value = 150000, weight= 100\n",
    "  - One box of 100 dollar bills: value = 200000, weight= 120\n",
    "  \n",
    "c. Assume the maximum weight allowance for a truck is 200. "
   ]
  },
  {
   "cell_type": "code",
   "execution_count": 4,
   "metadata": {},
   "outputs": [
    {
     "name": "stdout",
     "output_type": "stream",
     "text": [
      "7 201\n",
      "300000\n"
     ]
    }
   ],
   "source": [
    "val = [10000, 50000, 60000,100000,150000,200000] \n",
    "wt = [10, 40, 50, 80, 100, 120] \n",
    "W = 200\n",
    "n = len(val) \n",
    "print(knapSack(W, wt, val, n)) "
   ]
  },
  {
   "cell_type": "markdown",
   "metadata": {},
   "source": [
    "Scenario 2: Moving via a truck\n",
    "One of your friend buys a new house and she would like to hire a truck to move some of her existing furnitures with the maximum value to her new house. \n",
    "\n",
    "Assumption: \n",
    "\n",
    "a. She would like to hire only one truck to move the most valued furnitures. \n",
    "\n",
    "b. Details of her exisitng furnitures are as below:  \n",
    "  - Chair: value = 50, weight = 5\n",
    "  - Table: value = 80, weight = 25\n",
    "  - Bed: value = 200, weight = 200\n",
    "  - Desk: value = 300, weight = 80\n",
    "  - Sofa: value = 500, weight = 500\n",
    "\n",
    "c. Assume the maximum weight allowance for a truck is 600.  "
   ]
  },
  {
   "cell_type": "code",
   "execution_count": 6,
   "metadata": {},
   "outputs": [
    {
     "name": "stdout",
     "output_type": "stream",
     "text": [
      "6 601\n",
      "850\n"
     ]
    }
   ],
   "source": [
    "val = [50, 80, 200,300,500] \n",
    "wt = [5, 25, 200, 80, 500] \n",
    "W = 600\n",
    "n = len(val) \n",
    "print(knapSack(W, wt, val, n)) "
   ]
  },
  {
   "cell_type": "markdown",
   "metadata": {},
   "source": [
    "# SUMMARY"
   ]
  },
  {
   "cell_type": "markdown",
   "metadata": {},
   "source": [
    "Big O Notaion of for this Dynamic Algorithm is O(N x W), where ‘N’ is the number of weight element and ‘W’ is capacity. As for every weight element we traverse through all weight capacities 1<=w<=W.\n",
    "\n",
    "Dynamic algorithm is used where we have problems, which can be divided into similar sub-problems, so that their results can be re-used. Mostly, these algorithms are used for optimization. Before solving the in-hand sub-problem, dynamic algorithm will try to examine the results of the previously solved sub-problems. The solutions of sub-problems are combined in order to achieve the best solution."
   ]
  }
 ],
 "metadata": {
  "kernelspec": {
   "display_name": "Python 3",
   "language": "python",
   "name": "python3"
  },
  "language_info": {
   "codemirror_mode": {
    "name": "ipython",
    "version": 3
   },
   "file_extension": ".py",
   "mimetype": "text/x-python",
   "name": "python",
   "nbconvert_exporter": "python",
   "pygments_lexer": "ipython3",
   "version": "3.8.3"
  }
 },
 "nbformat": 4,
 "nbformat_minor": 4
}
