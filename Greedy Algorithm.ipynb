{
 "cells": [
  {
   "cell_type": "markdown",
   "metadata": {},
   "source": [
    "# OBJECTIVE"
   ]
  },
  {
   "cell_type": "markdown",
   "metadata": {},
   "source": [
    "Assume you run a small security company that provides physical security services in the area and you recently won a new contract in the area to provide 24x7 security to a small building under construction.  For simplicity we will design the solution for only 24 hours, but if you want to go above and beyond, feel free to write code that handles the 24x7 scenario as well.\n",
    "\n",
    "You have 6 security guards available at the moment who you can assign to this building but your goal is to make more money out of this contract and spend less in wages (hence greedy!)\n",
    "\n",
    "The cost/wage structure is as follows:\n",
    "People working less than or equal to 8 hours will be paid 15 dollars/hr.\n",
    "Anyone working overtime (>8 hours) will be paid an additional 5 dollars, i.e. 20 dollars/hr."
   ]
  },
  {
   "cell_type": "markdown",
   "metadata": {},
   "source": [
    "# Define a Function"
   ]
  },
  {
   "cell_type": "code",
   "execution_count": 1,
   "metadata": {},
   "outputs": [
    {
     "name": "stdout",
     "output_type": "stream",
     "text": [
      "Total cost is: $2520.\n",
      "\n",
      "Work shift: 8 hours.\n",
      "\n",
      "Total securities needed: 21.\n",
      "\n",
      "Security Schedule:['A', 'B', 'C', 'D', 'E', 'F', 'A', 'B', 'C', 'D', 'E', 'F', 'A', 'B', 'C', 'D', 'E', 'F', 'A', 'B', 'C'].\n",
      "\n",
      "Security Hours:{'A': 32, 'B': 32, 'C': 32, 'D': 24, 'E': 24, 'F': 24}.\n"
     ]
    }
   ],
   "source": [
    "# Create a greedy algorithm. \n",
    "def greedy(time_needed=24*7, shift=8):\n",
    "    \n",
    "    # First input parameter: Contract time needed. Default is 24x7\n",
    "    # Second input paramter: One work shift is set to 8 hours to avoid any overtime cost.\n",
    "    \n",
    "    # When the shift is less than or equal to 8 hours: \n",
    "    if shift >0 and shift <=8: \n",
    "        security_list = ['A', 'B', 'C', 'D', 'E', 'F']  # Set a list of securities. \n",
    "        total_cost = 0  # Initial total cost. \n",
    "        shift = 8  # One work shift is set to 8 hours to avoid any overtime cost. \n",
    "        cost_hr = 15  # Hourly cost is $15. \n",
    "        security_needed = []  # Total securities needed, which can be repeated if needed. \n",
    "        security_hours = {}  # Total working hours for each security, with security as key and hours as value.  \n",
    "\n",
    "\n",
    "        while time_needed > 0:  \n",
    "            for security in security_list: # Loop the security list. Start from the first security. \n",
    "                if time_needed > shift:  \n",
    "                    time_needed -= shift  \n",
    "                    wage = shift * cost_hr\n",
    "                    total_cost += wage\n",
    "                    security_needed.append(security)\n",
    "                    security_hours[security] = security_hours.get(security, 0) + shift\n",
    "                else: \n",
    "                    total_cost = total_cost + (time_needed * cost_hr)\n",
    "                    security_needed.append(security)\n",
    "                    security_hours[security] = security_hours.get(security, 0) + time_needed\n",
    "                    time_needed = 0\n",
    "                    break\n",
    "\n",
    "        print(f'Total cost is: ${total_cost}.')\n",
    "        print(f'\\nWork shift: {shift} hours.')\n",
    "        print(f'\\nTotal securities needed: {len(security_needed)}.')\n",
    "        print(f'\\nSecurity Schedule:{security_needed}.')\n",
    "        print(f'\\nSecurity Hours:{security_hours}.')\n",
    "    \n",
    "    # When the shift is outside of (0,8) (not including 8): \n",
    "    else: \n",
    "        print(\"Warning: Shift should be equal to or less than 8 hours to save cost!\")\n",
    "    \n",
    "greedy()"
   ]
  },
  {
   "cell_type": "markdown",
   "metadata": {},
   "source": [
    "# CONCLUSION"
   ]
  },
  {
   "cell_type": "markdown",
   "metadata": {},
   "source": [
    "- Only work shift less than the overtime threshold is considered in my greedy algorithm. In this case, we assign the work shift to 8 hours. Note that the work shift can be less than 8 hours if needed. It is greedy because we are trying to avoid any overtime hours to minimize the wage costs. There are 6 securities available, expressed as a list from A to F. The algorithm will loop over these 6 securities starting from A to F. If there are more shifts are needed after going through the security list, we will start again from A, until there is no more hour needed. Note that this offers the most potential working opportunities to A, following by B, C, D, etc. We can be greedy to put the best performance security as A, while the worest performance as F. All picked securities except the last picked will get an 8-hour shift. At any contract hour, we are greedy to make sure that there will always be only one security at shift. The cost calculation is the total hours needed times the cost per hour. Since overtime is never allowed in this algorithm, the hourly rate is consistant at 15 dollars. \n",
    "\n",
    "- This greedy algorithm contains a nested loop: a while loop and a for loop. Thus, the time complexity(big O notation) is O(n*n). \n",
    "\n",
    "- The greedy algorithm provides the most cost effeceive solution to avoid any overtime or overlapped schedules (avoid more than one security working at a time). There are other alternative solutions to this problem, split the same amount of working hours to all securities for any given contract hour while avoiding any overtime hours for each shift, for example. However, I think my algorithm works the best of them, because it ensures every picked security gets 8 hours shift when they go to work (except the last picked security), while the security company do not need to pay any overtime costs. Also, since the security with the best performance can get more potential work opportunities, it encourages good competition withtin the security team. \n",
    "\n",
    "- Even if the inputs are different in this scenario, my algorithm would still work. The first default parameter shows 24x7 contract hours and the second defulat parameter is 8 hours per shift, with an output of 2,520 dollars of total cost and 21 securities(can be repeatedly looping the security list). Even though when we change the contract hours to 25, this algorithm will still work, except that the last picked security would only get a 1 hour shift. Any shorter shifts than 8 hours would work as clean. Contract times and work shift are parameters in the algorithm. As long as the work shift does not meet the overtime hour threshold (8 hours), this algorithm would work. Otherwise it would print a warning message. \n",
    "\n",
    "- If I were not constrained to a greedy algorithm, a potential approach is to use an equal system to give all securities the same working hours for any given contract hours. Another potential approach is to use set/subsets. \n",
    "\n",
    "Generally, data engineers can easily utilize greedy algorithm for any given np problem. In addition, it is easier to analyze runtimes for greedy algorithm than other techniques. Also, greedy algorithm can output an approximate answer easily instead of taking other complixated approaches. "
   ]
  }
 ],
 "metadata": {
  "kernelspec": {
   "display_name": "Python 3",
   "language": "python",
   "name": "python3"
  },
  "language_info": {
   "codemirror_mode": {
    "name": "ipython",
    "version": 3
   },
   "file_extension": ".py",
   "mimetype": "text/x-python",
   "name": "python",
   "nbconvert_exporter": "python",
   "pygments_lexer": "ipython3",
   "version": "3.8.3"
  }
 },
 "nbformat": 4,
 "nbformat_minor": 4
}
