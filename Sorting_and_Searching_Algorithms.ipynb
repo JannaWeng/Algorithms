{
 "cells": [
  {
   "cell_type": "markdown",
   "metadata": {},
   "source": [
    "# INGEST"
   ]
  },
  {
   "cell_type": "code",
   "execution_count": 1,
   "metadata": {},
   "outputs": [],
   "source": [
    "import numpy as np\n",
    "import pandas as pd\n",
    "import matplotlib.pyplot as plt\n",
    "import time\n",
    "from random import seed\n",
    "from random import random"
   ]
  },
  {
   "cell_type": "markdown",
   "metadata": {},
   "source": [
    "# GENERATE RANDOM DATA"
   ]
  },
  {
   "cell_type": "code",
   "execution_count": 2,
   "metadata": {},
   "outputs": [],
   "source": [
    "np.random.seed(12345)"
   ]
  },
  {
   "cell_type": "code",
   "execution_count": 3,
   "metadata": {},
   "outputs": [],
   "source": [
    "n = [512, 1024, 2048, 4096, 8192]\n",
    "sort_time = []\n",
    "total_array=[]\n",
    "\n",
    "for x in range(0,len(n)):\n",
    "    \n",
    "    start_time = time.time()\n",
    "    array = np.sort(np.random.randint(1,10001, n[x]))\n",
    "    end_time = time.time()\n",
    "    t = end_time - start_time\n",
    "    sort_time.append(t * 1000)\n",
    "    total_array.append(array)"
   ]
  },
  {
   "cell_type": "markdown",
   "metadata": {},
   "source": [
    "# DEFINE & CALL FUNCTIONS"
   ]
  },
  {
   "cell_type": "code",
   "execution_count": 4,
   "metadata": {},
   "outputs": [],
   "source": [
    "def linear_search(myarray, item):\n",
    "    i = 0\n",
    "    while i < len(array):\n",
    "        if myarray[i] == item:\n",
    "            return i \n",
    "        i += 1\n",
    "    return None"
   ]
  },
  {
   "cell_type": "code",
   "execution_count": 5,
   "metadata": {},
   "outputs": [],
   "source": [
    "def binary_search(myarray, item):\n",
    "    low_idx = 0\n",
    "    high_idx = len(myarray) - 1\n",
    "    \n",
    "    while low_idx <= high_idx:\n",
    "        mid_idx = (low_idx + high_idx) // 2\n",
    "        guess = myarray[mid_idx]\n",
    "        \n",
    "        if guess == item:\n",
    "            return mid_idx\n",
    "        elif guess > item:\n",
    "            high_idx = mid_idx - 1\n",
    "        else: \n",
    "            low_idx = mid_idx + 1   \n",
    "    return None"
   ]
  },
  {
   "cell_type": "code",
   "execution_count": 6,
   "metadata": {},
   "outputs": [
    {
     "name": "stdout",
     "output_type": "stream",
     "text": [
      "[0.0, 0.0, 0.0, 0.9970664978027344, 1.9946098327636719]\n",
      "[0.0, 0.0, 0.0, 0.0, 0.0]\n"
     ]
    }
   ],
   "source": [
    "ls_time = []\n",
    "bs_time = []\n",
    "\n",
    "\n",
    "for x in range(0,len(n)):    \n",
    "    \n",
    "    target = total_array[x][-1]\n",
    "    \n",
    "    start_time = time.time()\n",
    "    linear_search(total_array[x], target)\n",
    "    end_time = time.time()\n",
    "    ls_t = (end_time - start_time) *1000\n",
    "    ls_time.append(ls_t)\n",
    "    \n",
    "    start_time = time.time()\n",
    "    binary_search(total_array[x], target)\n",
    "    end_time = time.time()\n",
    "    bs_t = (end_time - start_time) *1000\n",
    "    bs_time.append(bs_t)\n",
    "\n",
    "    \n",
    "print(ls_time)\n",
    "print(bs_time)"
   ]
  },
  {
   "cell_type": "markdown",
   "metadata": {},
   "source": [
    "# CREATE TABLE & GRAPHS"
   ]
  },
  {
   "cell_type": "code",
   "execution_count": 7,
   "metadata": {},
   "outputs": [
    {
     "data": {
      "text/html": [
       "<div>\n",
       "<style scoped>\n",
       "    .dataframe tbody tr th:only-of-type {\n",
       "        vertical-align: middle;\n",
       "    }\n",
       "\n",
       "    .dataframe tbody tr th {\n",
       "        vertical-align: top;\n",
       "    }\n",
       "\n",
       "    .dataframe thead th {\n",
       "        text-align: right;\n",
       "    }\n",
       "</style>\n",
       "<table border=\"1\" class=\"dataframe\">\n",
       "  <thead>\n",
       "    <tr style=\"text-align: right;\">\n",
       "      <th></th>\n",
       "      <th>Lengths of Array</th>\n",
       "      <th>Sort Time</th>\n",
       "      <th>Linear Search Time for Sorted Arrays</th>\n",
       "      <th>Binary Search Time for Sorted Arrays</th>\n",
       "      <th>Binary Search Time Plus Sort Time</th>\n",
       "    </tr>\n",
       "  </thead>\n",
       "  <tbody>\n",
       "    <tr>\n",
       "      <th>0</th>\n",
       "      <td>512</td>\n",
       "      <td>1.016378</td>\n",
       "      <td>0.000000</td>\n",
       "      <td>0.0</td>\n",
       "      <td>1.016378</td>\n",
       "    </tr>\n",
       "    <tr>\n",
       "      <th>1</th>\n",
       "      <td>1024</td>\n",
       "      <td>0.000000</td>\n",
       "      <td>0.000000</td>\n",
       "      <td>0.0</td>\n",
       "      <td>0.000000</td>\n",
       "    </tr>\n",
       "    <tr>\n",
       "      <th>2</th>\n",
       "      <td>2048</td>\n",
       "      <td>0.000000</td>\n",
       "      <td>0.000000</td>\n",
       "      <td>0.0</td>\n",
       "      <td>0.000000</td>\n",
       "    </tr>\n",
       "    <tr>\n",
       "      <th>3</th>\n",
       "      <td>4096</td>\n",
       "      <td>0.000000</td>\n",
       "      <td>0.997066</td>\n",
       "      <td>0.0</td>\n",
       "      <td>0.000000</td>\n",
       "    </tr>\n",
       "    <tr>\n",
       "      <th>4</th>\n",
       "      <td>8192</td>\n",
       "      <td>0.987768</td>\n",
       "      <td>1.994610</td>\n",
       "      <td>0.0</td>\n",
       "      <td>0.987768</td>\n",
       "    </tr>\n",
       "  </tbody>\n",
       "</table>\n",
       "</div>"
      ],
      "text/plain": [
       "   Lengths of Array  Sort Time  Linear Search Time for Sorted Arrays  \\\n",
       "0               512   1.016378                              0.000000   \n",
       "1              1024   0.000000                              0.000000   \n",
       "2              2048   0.000000                              0.000000   \n",
       "3              4096   0.000000                              0.997066   \n",
       "4              8192   0.987768                              1.994610   \n",
       "\n",
       "   Binary Search Time for Sorted Arrays  Binary Search Time Plus Sort Time  \n",
       "0                                   0.0                           1.016378  \n",
       "1                                   0.0                           0.000000  \n",
       "2                                   0.0                           0.000000  \n",
       "3                                   0.0                           0.000000  \n",
       "4                                   0.0                           0.987768  "
      ]
     },
     "execution_count": 7,
     "metadata": {},
     "output_type": "execute_result"
    }
   ],
   "source": [
    "data = {\"Lengths of Array\": [n[0],n[1],n[2],n[3],n[4]]}\n",
    "df=pd.DataFrame(data)\n",
    "df[\"Sort Time\"] = sort_time\n",
    "df[\"Linear Search Time for Sorted Arrays\"] = ls_time\n",
    "df[\"Binary Search Time for Sorted Arrays\"] = bs_time\n",
    "df[\"Binary Search Time Plus Sort Time\"] = df[\"Binary Search Time for Sorted Arrays\"] + df[\"Sort Time\"]\n",
    "df"
   ]
  },
  {
   "cell_type": "code",
   "execution_count": 13,
   "metadata": {},
   "outputs": [
    {
     "data": {
      "text/plain": [
       "<matplotlib.legend.Legend at 0x190f8928>"
      ]
     },
     "execution_count": 13,
     "metadata": {},
     "output_type": "execute_result"
    },
    {
     "data": {
      "image/png": "[encoded data removed]",
      "text/plain": [
       "<Figure size 432x288 with 1 Axes>"
      ]
     },
     "metadata": {
      "needs_background": "light"
     },
     "output_type": "display_data"
    }
   ],
   "source": [
    "plt.plot(df[\"Lengths of Array\"], df[\"Linear Search Time for Sorted Arrays\"], label=\"Linear Search Time\")\n",
    "plt.plot(df[\"Lengths of Array\"], df[\"Binary Search Time for Sorted Arrays\"], label=\"Binary Search Time\")\n",
    "plt.title(\"Linear/Binary Search Time in ms vs. Lengths of Array\")\n",
    "plt.xlabel(\"Lengths of Array\")\n",
    "plt.ylabel(\"Linear/Binary Search Time (ms)\")\n",
    "plt.legend()"
   ]
  },
  {
   "cell_type": "code",
   "execution_count": 19,
   "metadata": {},
   "outputs": [
    {
     "data": {
      "text/plain": [
       "<matplotlib.legend.Legend at 0x146ad90>"
      ]
     },
     "execution_count": 19,
     "metadata": {},
     "output_type": "execute_result"
    },
    {
     "data": {
      "image/png": "[encoded data removed]",
      "text/plain": [
       "<Figure size 432x288 with 1 Axes>"
      ]
     },
     "metadata": {
      "needs_background": "light"
     },
     "output_type": "display_data"
    }
   ],
   "source": [
    "plt.plot(df[\"Lengths of Array\"], df[\"Sort Time\"], \"ro\", label=\"S_T\")\n",
    "plt.plot(df[\"Lengths of Array\"], df[\"Linear Search Time for Sorted Arrays\"], label=\"LS_T\")\n",
    "plt.plot(df[\"Lengths of Array\"], df[\"Binary Search Time for Sorted Arrays\"], label=\"BS_T\")\n",
    "plt.plot(df[\"Lengths of Array\"], df[\"Binary Search Time Plus Sort Time\"], label=\"BS_T+S_T\")\n",
    "\n",
    "plt.title(\"Time in ms vs. Lengths of Array\")\n",
    "plt.xlabel(\"Lengths of Array\")\n",
    "plt.ylabel(\"Time (ms)\")\n",
    "plt.legend()"
   ]
  },
  {
   "cell_type": "markdown",
   "metadata": {},
   "source": [
    "# CONCLUSION"
   ]
  },
  {
   "cell_type": "markdown",
   "metadata": {},
   "source": [
    "Comparing linear search time and binary search time, we can see that they are very close when the arrays are relatively small. However, as the array number increases, it takes much longer for linear search while binary search stays relatively the same. In the worest case, linear search needs to search every single number to find the target, while binary search can always start with the middle number and remove half of the sorted list that does not include the target. \n",
    "\n",
    "We can see the reasons behind them with big O notation (worest-case scenario): O(n) for linear search and O(log(n)) for binary search, with n as the array numbers. We can understand big O notations as the steps needed to complete processing. Of course, the more steps are, the more processing time it will be. Thus, it is efficient to use both linear search on small data sets, or when the data set cannot be sorted for some reasons. However, it can be more much sufficient to use binary search for big sorted data sets.\n",
    "\n",
    "Default sort type in numpy.sort is quicksort, with big O notation (time worest-case senario) O(n^2) for n numbers. We can tell from the table and the graph that as data set becomes larger, sort time increases as well. Quicksort is considered as a fast sorting algorithm. \n",
    "\n",
    "Since binary search can only be performed on sorted data sets, it is more efficient to compare the binary search time plus the sorting time with linear search time. From graph \"Time in ms vs. Lengths of Array\", we can see that even plus sorting time, binary research is more time efficient than linear search in large date sets. \n",
    "\n",
    "Understanding the algorithms for linear search and binary search is essential for data engineers, becasue they can determine which one to be used for different data sets and for different scenarios. Usually linear search is simplier and less chance of bugs, while binary search can become rather completed but fast. "
   ]
  }
 ],
 "metadata": {
  "kernelspec": {
   "display_name": "Python 3",
   "language": "python",
   "name": "python3"
  },
  "language_info": {
   "codemirror_mode": {
    "name": "ipython",
    "version": 3
   },
   "file_extension": ".py",
   "mimetype": "text/x-python",
   "name": "python",
   "nbconvert_exporter": "python",
   "pygments_lexer": "ipython3",
   "version": "3.8.3"
  }
 },
 "nbformat": 4,
 "nbformat_minor": 4
}
