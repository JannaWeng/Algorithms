{
 "cells": [
  {
   "cell_type": "markdown",
   "metadata": {},
   "source": [
    "# INGEST"
   ]
  },
  {
   "cell_type": "code",
   "execution_count": 1,
   "metadata": {},
   "outputs": [],
   "source": [
    "import numpy as np\n",
    "import random\n",
    "import pandas as pd\n",
    "import time\n",
    "import string\n",
    "import copy\n",
    "import matplotlib.pyplot as plt"
   ]
  },
  {
   "cell_type": "markdown",
   "metadata": {},
   "source": [
    "# GENERATE DATA"
   ]
  },
  {
   "cell_type": "code",
   "execution_count": 2,
   "metadata": {},
   "outputs": [],
   "source": [
    "# Set random seed. \n",
    "np.random.seed(12345)\n",
    "\n",
    "# Generate a list with random string characters.\n",
    "# Each element in the list is 10 characters long. \n",
    "# Total length of the list is 100,000. \n",
    "names_unsort = [''.join(random.choices(string.ascii_letters, k=10)) for _ in range(100000)]\n",
    "\n",
    "# Create a new set from the generated list. \n",
    "names_set = set(names_unsort)"
   ]
  },
  {
   "cell_type": "code",
   "execution_count": 3,
   "metadata": {},
   "outputs": [],
   "source": [
    "# Quick sort recursive algorithm. \n",
    "def quicksort(array):\n",
    "    if len(array) < 2:\n",
    "        return array\n",
    "    else:\n",
    "        pivot = array[0]\n",
    "        less = [i for i in array[1:] if i <= pivot]\n",
    "        greater = [i for i in array[1:] if i > pivot]\n",
    "        return quicksort(less) + [pivot] + quicksort(greater)"
   ]
  },
  {
   "cell_type": "code",
   "execution_count": 4,
   "metadata": {},
   "outputs": [],
   "source": [
    "# Record runtime to sort the list with Quicksort.\n",
    "start_time = time.perf_counter()\n",
    "names_sort = quicksort(copy.copy(names_unsort))\n",
    "end_time = time.perf_counter()\n",
    "sort_time = (end_time-start_time)*1000"
   ]
  },
  {
   "cell_type": "code",
   "execution_count": 5,
   "metadata": {},
   "outputs": [],
   "source": [
    "# Pick the names based on their locations. Note that 9999 returns the 10,000th location since Python starts with 0. \n",
    "pick_index=[9999, 29999, 49999, 69999, 89999, 99999]\n",
    "pick_names=[]\n",
    "for i in pick_index:\n",
    "    pick_names.append(names_unsort[i])"
   ]
  },
  {
   "cell_type": "markdown",
   "metadata": {},
   "source": [
    "# DEFINE FUNCTIONS"
   ]
  },
  {
   "cell_type": "code",
   "execution_count": 6,
   "metadata": {},
   "outputs": [],
   "source": [
    "# Define a linear search algorithm. \n",
    "def linear_search(myarray, item):\n",
    "    i = 0\n",
    "    while i < len(myarray):\n",
    "        if myarray[i] == item:\n",
    "            return myarray[i]\n",
    "        i += 1\n",
    "    return None"
   ]
  },
  {
   "cell_type": "code",
   "execution_count": 7,
   "metadata": {},
   "outputs": [],
   "source": [
    "# Define a binary search algorithm. \n",
    "def binary_search(myarray, item):\n",
    "    low_idx = 0\n",
    "    high_idx = len(myarray) - 1\n",
    "    \n",
    "    while low_idx <= high_idx:\n",
    "        mid_idx = (low_idx + high_idx) // 2\n",
    "        guess = myarray[mid_idx]\n",
    "        \n",
    "        if guess == item:\n",
    "            return myarray[mid_idx]\n",
    "        elif guess > item:\n",
    "            high_idx = mid_idx - 1\n",
    "        else: \n",
    "            low_idx = mid_idx + 1   \n",
    "    return None"
   ]
  },
  {
   "cell_type": "code",
   "execution_count": 8,
   "metadata": {},
   "outputs": [],
   "source": [
    "# Define a in search algorithm. \n",
    "def in_search(myset, target_list):\n",
    "    target = []\n",
    "    for i in target_list:\n",
    "        if i in myset:\n",
    "            target.append(i)\n",
    "    return target"
   ]
  },
  {
   "cell_type": "code",
   "execution_count": 9,
   "metadata": {},
   "outputs": [],
   "source": [
    "# Define a function to record the runtimes. \n",
    "def runtime_call(def_function, array, target):\n",
    "    call_time =[]\n",
    "    for elements in target:\n",
    "        start_time = time.perf_counter()\n",
    "        running = def_function(array, elements)\n",
    "        end_time = time.perf_counter()\n",
    "        time_list = (end_time-start_time)*1000 \n",
    "        call_time.append(time_list)\n",
    "    return call_time"
   ]
  },
  {
   "cell_type": "code",
   "execution_count": 10,
   "metadata": {},
   "outputs": [],
   "source": [
    "linear_time = runtime_call(linear_search,names_unsort, pick_names)\n",
    "binary_time = runtime_call(binary_search,names_sort, pick_names)\n",
    "in_time = runtime_call(in_search,names_set, pick_names)"
   ]
  },
  {
   "cell_type": "code",
   "execution_count": 11,
   "metadata": {},
   "outputs": [],
   "source": [
    "binary_and_sort_time = []\n",
    "for i in range(len(binary_time)):\n",
    "    binary_and_sort_time.append(sort_time + binary_time[i])"
   ]
  },
  {
   "cell_type": "markdown",
   "metadata": {},
   "source": [
    "# TABLE AND GRAPH"
   ]
  },
  {
   "cell_type": "code",
   "execution_count": 12,
   "metadata": {},
   "outputs": [
    {
     "data": {
      "text/html": [
       "<div>\n",
       "<style scoped>\n",
       "    .dataframe tbody tr th:only-of-type {\n",
       "        vertical-align: middle;\n",
       "    }\n",
       "\n",
       "    .dataframe tbody tr th {\n",
       "        vertical-align: top;\n",
       "    }\n",
       "\n",
       "    .dataframe thead th {\n",
       "        text-align: right;\n",
       "    }\n",
       "</style>\n",
       "<table border=\"1\" class=\"dataframe\">\n",
       "  <thead>\n",
       "    <tr style=\"text-align: right;\">\n",
       "      <th></th>\n",
       "      <th>Name Position</th>\n",
       "      <th>Linear Search Time (ms)</th>\n",
       "      <th>Binary Search Time (ms)</th>\n",
       "      <th>In Search Time (ms)</th>\n",
       "      <th>Binary+Sort Time (ms)</th>\n",
       "    </tr>\n",
       "  </thead>\n",
       "  <tbody>\n",
       "    <tr>\n",
       "      <th>0</th>\n",
       "      <td>10000.0</td>\n",
       "      <td>5.6107</td>\n",
       "      <td>0.0088</td>\n",
       "      <td>0.0028</td>\n",
       "      <td>270.5238</td>\n",
       "    </tr>\n",
       "    <tr>\n",
       "      <th>1</th>\n",
       "      <td>30000.0</td>\n",
       "      <td>8.4762</td>\n",
       "      <td>0.0058</td>\n",
       "      <td>0.0016</td>\n",
       "      <td>270.5208</td>\n",
       "    </tr>\n",
       "    <tr>\n",
       "      <th>2</th>\n",
       "      <td>50000.0</td>\n",
       "      <td>9.6322</td>\n",
       "      <td>0.0056</td>\n",
       "      <td>0.0014</td>\n",
       "      <td>270.5206</td>\n",
       "    </tr>\n",
       "    <tr>\n",
       "      <th>3</th>\n",
       "      <td>70000.0</td>\n",
       "      <td>9.3768</td>\n",
       "      <td>0.0052</td>\n",
       "      <td>0.0011</td>\n",
       "      <td>270.5202</td>\n",
       "    </tr>\n",
       "    <tr>\n",
       "      <th>4</th>\n",
       "      <td>90000.0</td>\n",
       "      <td>12.3175</td>\n",
       "      <td>0.0058</td>\n",
       "      <td>0.0010</td>\n",
       "      <td>270.5208</td>\n",
       "    </tr>\n",
       "    <tr>\n",
       "      <th>5</th>\n",
       "      <td>100000.0</td>\n",
       "      <td>13.7593</td>\n",
       "      <td>0.0049</td>\n",
       "      <td>0.0008</td>\n",
       "      <td>270.5199</td>\n",
       "    </tr>\n",
       "  </tbody>\n",
       "</table>\n",
       "</div>"
      ],
      "text/plain": [
       "   Name Position  Linear Search Time (ms)  Binary Search Time (ms)  \\\n",
       "0        10000.0                   5.6107                   0.0088   \n",
       "1        30000.0                   8.4762                   0.0058   \n",
       "2        50000.0                   9.6322                   0.0056   \n",
       "3        70000.0                   9.3768                   0.0052   \n",
       "4        90000.0                  12.3175                   0.0058   \n",
       "5       100000.0                  13.7593                   0.0049   \n",
       "\n",
       "   In Search Time (ms)  Binary+Sort Time (ms)  \n",
       "0               0.0028               270.5238  \n",
       "1               0.0016               270.5208  \n",
       "2               0.0014               270.5206  \n",
       "3               0.0011               270.5202  \n",
       "4               0.0010               270.5208  \n",
       "5               0.0008               270.5199  "
      ]
     },
     "metadata": {},
     "output_type": "display_data"
    }
   ],
   "source": [
    "position =[10000,30000,50000,70000,90000,100000]\n",
    "data = np.array([position,linear_time,binary_time,in_time,binary_and_sort_time]).T\n",
    "df = pd.DataFrame(data)\n",
    "df.columns = ['Name Position', 'Linear Search Time (ms)', 'Binary Search Time (ms)','In Search Time (ms)','Binary+Sort Time (ms)']\n",
    "display(df)"
   ]
  },
  {
   "cell_type": "code",
   "execution_count": 13,
   "metadata": {},
   "outputs": [
    {
     "data": {
      "image/png": "[encoded data removed]",
      "text/plain": [
       "<Figure size 1008x720 with 1 Axes>"
      ]
     },
     "metadata": {
      "needs_background": "light"
     },
     "output_type": "display_data"
    }
   ],
   "source": [
    "df.set_index('Name Position')[['Linear Search Time (ms)', 'Binary Search Time (ms)', 'In Search Time (ms)','Binary+Sort Time (ms)']].plot(kind='bar',figsize=(14,10))\n",
    "plt.xticks(rotation=70)\n",
    "plt.yscale(\"log\")"
   ]
  },
  {
   "cell_type": "markdown",
   "metadata": {},
   "source": [
    "# CONCLUSION"
   ]
  },
  {
   "cell_type": "markdown",
   "metadata": {},
   "source": [
    "There are 3 types of searching algorithms used in this practice: linear search, binary search and a Python builtin research tool for set (we will call it \"in search\" for the rest of this conclusion section). The logics behind each searching algorithm is as per below:\n",
    "\n",
    "- Linear Search: Search through the whole list one by one for the target item. List can be sorted or unsorted. \n",
    "- Binary Search: Only applicable on sorted list. Find the middle item and split the list into 3 parts: less than mid, mid and greater than mid. Compare the target item with mid-item, if it is the one, then take it and complete. Otherwise if target item is greater than mid-item, take the splitted list of \"greater than mid\", or take the splitted list of \"less than mid\" if target item is lesser than mid-item. Repeat these steps until the mid-item is equal to the target item. \n",
    "- In Search: Instant output the target item from the set.\n",
    "\n",
    "The big O notations and explainations for each searching algorithm is shown as per below:\n",
    "\n",
    "- Linear Search: Worest case scenario is O(n) for n numbers in the list. \n",
    "- Binary Search: Worest case scenario is O(log(n)) for n numbers in the list. \n",
    "- In Search: Worest case scenario is O(n) for n numbers in the list, while its average case if O(1). In order to avoid the worest-case performance, we need to avoid collisions in hash tables. \n",
    "\n",
    "Based on our practice results, we've validated that in search holds the fastest runtimes out of the 3 algorithms, with a big O notation of O(1). Binary search ranks second, with a big O notation of O(log(n)). However, since binary search is only applicable on sorted lists, we would need to consider sorting time as well. Even after using the fastest sorting algorithm  quicksort, we end up with runtimes (sort time + binary search time) the largest among all. Hence, it seems like binary search is not very sufficient on unsorted lists. Linear search is not a good option becasue it can be very slow as per its big O notation of O(n). In conclusion, I recommend to use in search method to find the target items, but remember the fact that in search is only applicable to specific data structures, such as sets, dictionaries, etc. "
   ]
  }
 ],
 "metadata": {
  "kernelspec": {
   "display_name": "Python 3",
   "language": "python",
   "name": "python3"
  },
  "language_info": {
   "codemirror_mode": {
    "name": "ipython",
    "version": 3
   },
   "file_extension": ".py",
   "mimetype": "text/x-python",
   "name": "python",
   "nbconvert_exporter": "python",
   "pygments_lexer": "ipython3",
   "version": "3.8.3"
  }
 },
 "nbformat": 4,
 "nbformat_minor": 4
}
