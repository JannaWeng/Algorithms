{
 "cells": [
  {
   "cell_type": "markdown",
   "metadata": {},
   "source": [
    "# INGEST"
   ]
  },
  {
   "cell_type": "code",
   "execution_count": 1,
   "metadata": {},
   "outputs": [],
   "source": [
    "import numpy as np\n",
    "import pandas as pd\n",
    "import random\n",
    "import sys\n",
    "import time\n",
    "import matplotlib.pyplot as plt"
   ]
  },
  {
   "cell_type": "markdown",
   "metadata": {},
   "source": [
    "# GENERATE DATA"
   ]
  },
  {
   "cell_type": "code",
   "execution_count": 2,
   "metadata": {},
   "outputs": [],
   "source": [
    "# set random seed. \n",
    "np.random.seed(12345)\n",
    "\n",
    "# Generate an array with 10 random integers between 0 and 500. \n",
    "array = np.random.randint(100, 501, 10)"
   ]
  },
  {
   "cell_type": "markdown",
   "metadata": {},
   "source": [
    "# DEFINE FUNCTIONS"
   ]
  },
  {
   "cell_type": "code",
   "execution_count": 3,
   "metadata": {},
   "outputs": [],
   "source": [
    "# Define a function to find out the factorial of an input number with for loop. \n",
    "\n",
    "def fact_itera(x):\n",
    "    ans = 1\n",
    "    for i in range(1, x+1):\n",
    "        ans = ans * i\n",
    "    return ans"
   ]
  },
  {
   "cell_type": "code",
   "execution_count": 4,
   "metadata": {},
   "outputs": [],
   "source": [
    "# Define a function to find out the factorial of an input number with recursion. \n",
    "\n",
    "def fact(x):\n",
    "    if x == 1:\n",
    "        return 1\n",
    "    else: \n",
    "        return x * fact(x-1)"
   ]
  },
  {
   "cell_type": "code",
   "execution_count": 5,
   "metadata": {},
   "outputs": [],
   "source": [
    "# Define a function to record runtimes to calculate factorial with for loop. \n",
    "# This is for function fact_itera. \n",
    "\n",
    "def fact_time_itera(array):\n",
    "    fact_time = []\n",
    "    for i in range(0,len(array)):\n",
    "            start_time = time.perf_counter()\n",
    "            fact_cal = fact_itera(array[i])\n",
    "            end_time = time.perf_counter()\n",
    "            fact_time.append((end_time - start_time) * 1000)\n",
    "    return fact_time         "
   ]
  },
  {
   "cell_type": "code",
   "execution_count": 6,
   "metadata": {},
   "outputs": [],
   "source": [
    "# Define a function to record runtimes to calculate factorial with recursion. \n",
    "# This is for function fact.\n",
    "\n",
    "def fact_time(array):\n",
    "    fact_time = []\n",
    "    for i in range(0,len(array)):\n",
    "            start_time = time.perf_counter()\n",
    "            fact_cal = fact(array[i])\n",
    "            end_time = time.perf_counter()\n",
    "            fact_time.append((end_time - start_time) * 1000)\n",
    "    return fact_time  "
   ]
  },
  {
   "cell_type": "markdown",
   "metadata": {},
   "source": [
    "# TEST FUNCTION LIMITS"
   ]
  },
  {
   "cell_type": "code",
   "execution_count": 7,
   "metadata": {},
   "outputs": [
    {
     "name": "stdout",
     "output_type": "stream",
     "text": [
      "3000\n"
     ]
    }
   ],
   "source": [
    "# Check current recursion limits. \n",
    "print(sys.getrecursionlimit())"
   ]
  },
  {
   "cell_type": "code",
   "execution_count": 8,
   "metadata": {},
   "outputs": [
    {
     "name": "stdout",
     "output_type": "stream",
     "text": [
      "5000\n"
     ]
    }
   ],
   "source": [
    "# Increase recusion limits. \n",
    "sys.setrecursionlimit(5000)\n",
    "print(sys.getrecursionlimit())"
   ]
  },
  {
   "cell_type": "code",
   "execution_count": 9,
   "metadata": {},
   "outputs": [
    {
     "name": "stdout",
     "output_type": "stream",
     "text": [
      "Both functions works to calculate factorial of 3000\n"
     ]
    }
   ],
   "source": [
    "# Print factorial for number 3000 with both function. \n",
    "\n",
    "i = 3000\n",
    "if fact(i) == fact_itera(i):\n",
    "    print(f'Both functions works to calculate factorial of {i}')"
   ]
  },
  {
   "cell_type": "markdown",
   "metadata": {},
   "source": [
    "# CREATE TABLES AND GRAPH"
   ]
  },
  {
   "cell_type": "code",
   "execution_count": 10,
   "metadata": {},
   "outputs": [
    {
     "name": "stderr",
     "output_type": "stream",
     "text": [
      "<ipython-input-4-a0bafc362688>:7: RuntimeWarning: overflow encountered in long_scalars\n",
      "  return x * fact(x-1)\n"
     ]
    },
    {
     "data": {
      "text/html": [
       "<div>\n",
       "<style scoped>\n",
       "    .dataframe tbody tr th:only-of-type {\n",
       "        vertical-align: middle;\n",
       "    }\n",
       "\n",
       "    .dataframe tbody tr th {\n",
       "        vertical-align: top;\n",
       "    }\n",
       "\n",
       "    .dataframe thead th {\n",
       "        text-align: right;\n",
       "    }\n",
       "</style>\n",
       "<table border=\"1\" class=\"dataframe\">\n",
       "  <thead>\n",
       "    <tr style=\"text-align: right;\">\n",
       "      <th></th>\n",
       "      <th>Number</th>\n",
       "      <th>Iteration Factorial Time (ms)</th>\n",
       "      <th>Recursion Factorial Time (ms)</th>\n",
       "    </tr>\n",
       "  </thead>\n",
       "  <tbody>\n",
       "    <tr>\n",
       "      <th>0</th>\n",
       "      <td>385.0</td>\n",
       "      <td>0.0728</td>\n",
       "      <td>0.3020</td>\n",
       "    </tr>\n",
       "    <tr>\n",
       "      <th>1</th>\n",
       "      <td>229.0</td>\n",
       "      <td>0.0247</td>\n",
       "      <td>0.1343</td>\n",
       "    </tr>\n",
       "    <tr>\n",
       "      <th>2</th>\n",
       "      <td>482.0</td>\n",
       "      <td>0.0811</td>\n",
       "      <td>0.2678</td>\n",
       "    </tr>\n",
       "    <tr>\n",
       "      <th>3</th>\n",
       "      <td>457.0</td>\n",
       "      <td>0.0707</td>\n",
       "      <td>0.2535</td>\n",
       "    </tr>\n",
       "    <tr>\n",
       "      <th>4</th>\n",
       "      <td>134.0</td>\n",
       "      <td>0.0116</td>\n",
       "      <td>0.0839</td>\n",
       "    </tr>\n",
       "    <tr>\n",
       "      <th>5</th>\n",
       "      <td>129.0</td>\n",
       "      <td>0.0107</td>\n",
       "      <td>0.0812</td>\n",
       "    </tr>\n",
       "    <tr>\n",
       "      <th>6</th>\n",
       "      <td>357.0</td>\n",
       "      <td>0.0473</td>\n",
       "      <td>0.1992</td>\n",
       "    </tr>\n",
       "    <tr>\n",
       "      <th>7</th>\n",
       "      <td>218.0</td>\n",
       "      <td>0.0216</td>\n",
       "      <td>0.1270</td>\n",
       "    </tr>\n",
       "    <tr>\n",
       "      <th>8</th>\n",
       "      <td>469.0</td>\n",
       "      <td>0.0854</td>\n",
       "      <td>0.2582</td>\n",
       "    </tr>\n",
       "    <tr>\n",
       "      <th>9</th>\n",
       "      <td>415.0</td>\n",
       "      <td>0.0616</td>\n",
       "      <td>0.2303</td>\n",
       "    </tr>\n",
       "  </tbody>\n",
       "</table>\n",
       "</div>"
      ],
      "text/plain": [
       "   Number  Iteration Factorial Time (ms)  Recursion Factorial Time (ms)\n",
       "0   385.0                         0.0728                         0.3020\n",
       "1   229.0                         0.0247                         0.1343\n",
       "2   482.0                         0.0811                         0.2678\n",
       "3   457.0                         0.0707                         0.2535\n",
       "4   134.0                         0.0116                         0.0839\n",
       "5   129.0                         0.0107                         0.0812\n",
       "6   357.0                         0.0473                         0.1992\n",
       "7   218.0                         0.0216                         0.1270\n",
       "8   469.0                         0.0854                         0.2582\n",
       "9   415.0                         0.0616                         0.2303"
      ]
     },
     "metadata": {},
     "output_type": "display_data"
    },
    {
     "data": {
      "text/html": [
       "<div>\n",
       "<style scoped>\n",
       "    .dataframe tbody tr th:only-of-type {\n",
       "        vertical-align: middle;\n",
       "    }\n",
       "\n",
       "    .dataframe tbody tr th {\n",
       "        vertical-align: top;\n",
       "    }\n",
       "\n",
       "    .dataframe thead th {\n",
       "        text-align: right;\n",
       "    }\n",
       "</style>\n",
       "<table border=\"1\" class=\"dataframe\">\n",
       "  <thead>\n",
       "    <tr style=\"text-align: right;\">\n",
       "      <th></th>\n",
       "      <th>Number</th>\n",
       "      <th>Iteration Factorial Time (ms)</th>\n",
       "      <th>Recursion Factorial Time (ms)</th>\n",
       "    </tr>\n",
       "  </thead>\n",
       "  <tbody>\n",
       "    <tr>\n",
       "      <th>5</th>\n",
       "      <td>129.0</td>\n",
       "      <td>0.0107</td>\n",
       "      <td>0.0812</td>\n",
       "    </tr>\n",
       "    <tr>\n",
       "      <th>4</th>\n",
       "      <td>134.0</td>\n",
       "      <td>0.0116</td>\n",
       "      <td>0.0839</td>\n",
       "    </tr>\n",
       "    <tr>\n",
       "      <th>7</th>\n",
       "      <td>218.0</td>\n",
       "      <td>0.0216</td>\n",
       "      <td>0.1270</td>\n",
       "    </tr>\n",
       "    <tr>\n",
       "      <th>1</th>\n",
       "      <td>229.0</td>\n",
       "      <td>0.0247</td>\n",
       "      <td>0.1343</td>\n",
       "    </tr>\n",
       "    <tr>\n",
       "      <th>6</th>\n",
       "      <td>357.0</td>\n",
       "      <td>0.0473</td>\n",
       "      <td>0.1992</td>\n",
       "    </tr>\n",
       "    <tr>\n",
       "      <th>0</th>\n",
       "      <td>385.0</td>\n",
       "      <td>0.0728</td>\n",
       "      <td>0.3020</td>\n",
       "    </tr>\n",
       "    <tr>\n",
       "      <th>9</th>\n",
       "      <td>415.0</td>\n",
       "      <td>0.0616</td>\n",
       "      <td>0.2303</td>\n",
       "    </tr>\n",
       "    <tr>\n",
       "      <th>3</th>\n",
       "      <td>457.0</td>\n",
       "      <td>0.0707</td>\n",
       "      <td>0.2535</td>\n",
       "    </tr>\n",
       "    <tr>\n",
       "      <th>8</th>\n",
       "      <td>469.0</td>\n",
       "      <td>0.0854</td>\n",
       "      <td>0.2582</td>\n",
       "    </tr>\n",
       "    <tr>\n",
       "      <th>2</th>\n",
       "      <td>482.0</td>\n",
       "      <td>0.0811</td>\n",
       "      <td>0.2678</td>\n",
       "    </tr>\n",
       "  </tbody>\n",
       "</table>\n",
       "</div>"
      ],
      "text/plain": [
       "   Number  Iteration Factorial Time (ms)  Recursion Factorial Time (ms)\n",
       "5   129.0                         0.0107                         0.0812\n",
       "4   134.0                         0.0116                         0.0839\n",
       "7   218.0                         0.0216                         0.1270\n",
       "1   229.0                         0.0247                         0.1343\n",
       "6   357.0                         0.0473                         0.1992\n",
       "0   385.0                         0.0728                         0.3020\n",
       "9   415.0                         0.0616                         0.2303\n",
       "3   457.0                         0.0707                         0.2535\n",
       "8   469.0                         0.0854                         0.2582\n",
       "2   482.0                         0.0811                         0.2678"
      ]
     },
     "metadata": {},
     "output_type": "display_data"
    }
   ],
   "source": [
    "# Create an array with Numpy of numbers, runtime with iteration, and runtime with recurrsion. \n",
    "data = np.array([array, fact_time_itera(array), fact_time(array)]).T\n",
    "\n",
    "# Convert the array to a dataframe with Pandas and update the column names.  \n",
    "df = pd.DataFrame(data)\n",
    "df.columns = ['Number','Iteration Factorial Time (ms)', 'Recursion Factorial Time (ms)']\n",
    "display(df)\n",
    "\n",
    "# Sort the runtimes based on the numbers, from smallest to largets. \n",
    "final_df=df.sort_values(by=['Number'])\n",
    "display(final_df)"
   ]
  },
  {
   "cell_type": "code",
   "execution_count": 11,
   "metadata": {},
   "outputs": [
    {
     "data": {
      "text/plain": [
       "<matplotlib.legend.Legend at 0x1445ff40>"
      ]
     },
     "execution_count": 11,
     "metadata": {},
     "output_type": "execute_result"
    },
    {
     "data": {
      "image/png": "[encoded data removed]",
      "text/plain": [
       "<Figure size 432x288 with 1 Axes>"
      ]
     },
     "metadata": {
      "needs_background": "light"
     },
     "output_type": "display_data"
    }
   ],
   "source": [
    "# Create a graph based on the dataframe. \n",
    "plt.plot(df['Number'], df['Iteration Factorial Time (ms)'], label = 'Iteration Factorial Time (ms)', )\n",
    "plt.plot(df['Number'], df['Recursion Factorial Time (ms)'], label = 'Recursion Factorial Time (ms)')\n",
    "plt.xlabel('Number')\n",
    "plt.ylabel('Factorial Calculation Time (ms)')\n",
    "plt.title('Numbers vs. Factorial Calculation Time (ms)')\n",
    "plt.legend()"
   ]
  },
  {
   "cell_type": "markdown",
   "metadata": {},
   "source": [
    "# CONCLUSION"
   ]
  },
  {
   "cell_type": "markdown",
   "metadata": {},
   "source": [
    "We've created a random list of 10 numbers between 100 and 500, then recorded the different factorical calculation runtimes of these 10 numbers with iteration and recursion. Based on the above tables and graph, it seems like as the numbers get bigger, runtimes of both iteration and recursion get bigger. \n",
    "\n",
    "However, we've noticed the runtime differences in iteration and recursion for factorial calculation. In iteration with number n, we have to scan through 1, 2, 3, 4, ..., n-1 and n, then multiply them together. This is linear with n steps, and with a big O notation of O(n). \n",
    "\n",
    "In recursion with number n, let's understand its big O notation from time complexity. For each function state (except for f(1)), there are 2 states being generated. For example, f(2) generates f(2) state and f(1) state. Thus, in general, total number of states are approximately euqal to 2^n for computing n numbers. Thus, we can write its big O notation as O(2^n). Note that we also should consider memory limitation with recursion, since all functions are being generated and kept in memory in stack frames until they are called to terminate. \n",
    "\n",
    "Generally, since O(2^n) is greater than O(n), iteration usurally runs faster than recursion. However, we can see that the recursive logic is easier to understand, even for non-programmers. "
   ]
  }
 ],
 "metadata": {
  "kernelspec": {
   "display_name": "Python 3",
   "language": "python",
   "name": "python3"
  },
  "language_info": {
   "codemirror_mode": {
    "name": "ipython",
    "version": 3
   },
   "file_extension": ".py",
   "mimetype": "text/x-python",
   "name": "python",
   "nbconvert_exporter": "python",
   "pygments_lexer": "ipython3",
   "version": "3.8.3"
  }
 },
 "nbformat": 4,
 "nbformat_minor": 4
}
