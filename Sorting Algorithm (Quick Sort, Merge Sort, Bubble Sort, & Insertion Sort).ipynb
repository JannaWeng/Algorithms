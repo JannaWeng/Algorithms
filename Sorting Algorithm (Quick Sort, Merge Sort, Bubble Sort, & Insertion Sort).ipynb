{
 "cells": [
  {
   "cell_type": "markdown",
   "metadata": {},
   "source": [
    "# INGEST"
   ]
  },
  {
   "cell_type": "code",
   "execution_count": 1,
   "metadata": {},
   "outputs": [],
   "source": [
    "import numpy as np\n",
    "import random\n",
    "import pandas as pd\n",
    "import time\n",
    "import string\n",
    "import sys\n",
    "import matplotlib.pyplot as plt"
   ]
  },
  {
   "cell_type": "markdown",
   "metadata": {},
   "source": [
    "# GENERATE DATA"
   ]
  },
  {
   "cell_type": "code",
   "execution_count": 2,
   "metadata": {},
   "outputs": [],
   "source": [
    "# Set random seed. \n",
    "np.random.seed(12345)\n",
    "\n",
    "# Set string length. \n",
    "number = 50\n",
    "\n",
    "# Set list length. \n",
    "n=[200, 400, 600, 800, 1000]\n",
    "\n",
    "# Generate a list with random string characters. \n",
    "total_array_string = []\n",
    "for i in range(0, len(n)):\n",
    "    array = [''.join(random.choices(string.ascii_letters, k=number)) for _ in range (n[i])]\n",
    "    total_array_string.append(array)"
   ]
  },
  {
   "cell_type": "markdown",
   "metadata": {},
   "source": [
    "# DEFINE FUNCTIONS"
   ]
  },
  {
   "cell_type": "code",
   "execution_count": 3,
   "metadata": {},
   "outputs": [],
   "source": [
    "# Quick sort recursive algorithm. \n",
    "def quicksort(array):\n",
    "    if len(array) < 2:\n",
    "        return array\n",
    "    else:\n",
    "        pivot = array[0]\n",
    "        less = [i for i in array[1:] if i <= pivot]\n",
    "        greater = [i for i in array[1:] if i > pivot]\n",
    "        return quicksort(less) + [pivot] + quicksort(greater)"
   ]
  },
  {
   "cell_type": "code",
   "execution_count": 4,
   "metadata": {},
   "outputs": [],
   "source": [
    "# Merge sort recursive algorithm. \n",
    "def mergesort(array):\n",
    "    if len(array) > 1:\n",
    "        mid = len(array)//2\n",
    "        L = array[:mid]\n",
    "        R = array[mid:]\n",
    "        mergesort(L)\n",
    "        mergesort(R)\n",
    "        \n",
    "        i = 0\n",
    "        j = 0\n",
    "        k = 0\n",
    "        while i < len(L) and j < len(R):\n",
    "            if L[i] < R[j]:\n",
    "                array[k] = L[i]\n",
    "                i += 1\n",
    "            else:\n",
    "                array[k] = R[j]\n",
    "                j += 1 \n",
    "            k += 1\n",
    "            \n",
    "        while i < len(L):\n",
    "            array[k] = L[i]\n",
    "            i += 1\n",
    "            k += 1\n",
    "        \n",
    "        while j < len(R):\n",
    "            array[k] = R[j]\n",
    "            j += 1\n",
    "            k += 1"
   ]
  },
  {
   "cell_type": "code",
   "execution_count": 5,
   "metadata": {},
   "outputs": [],
   "source": [
    "# Bubble sort iterative algorithm.\n",
    "def bubblesort(array):\n",
    "    for i in range(len(array)-1):\n",
    "        for j in range(0, len(array)-i-1):\n",
    "            if array[j] > array[j+1]:\n",
    "                array[j], array[j+1] = array[j+1], array[j]"
   ]
  },
  {
   "cell_type": "code",
   "execution_count": 6,
   "metadata": {},
   "outputs": [],
   "source": [
    "# Insertion sort iterative algorithm.\n",
    "def insertionsort(array):\n",
    "    for i in range(1, len(array)):\n",
    "        key = array[i]\n",
    "        j = i-1\n",
    "        \n",
    "        while j >=0 and key < array[j]:\n",
    "            array[j+1] = array[j]\n",
    "            j -= 1\n",
    "        array[j+1] = key"
   ]
  },
  {
   "cell_type": "code",
   "execution_count": 7,
   "metadata": {},
   "outputs": [],
   "source": [
    "# Record sorting runtime functions. \n",
    "def runtime(sort_function, array):\n",
    "    time_list=[]\n",
    "    for i in range(0, len(array)):\n",
    "        start_time = time.perf_counter()\n",
    "        sort_time = sort_function(array[i])\n",
    "        end_time = time.perf_counter()\n",
    "        time_list.append((end_time - start_time) * 1000)\n",
    "    return time_list"
   ]
  },
  {
   "cell_type": "code",
   "execution_count": 8,
   "metadata": {},
   "outputs": [],
   "source": [
    "# Copy lists and call functions. \n",
    "quicksort_total_array = total_array_string.copy()\n",
    "quick_time = runtime(quicksort, quicksort_total_array)\n",
    "\n",
    "insertionsort_total_array = total_array_string.copy()\n",
    "insertion_time = runtime(insertionsort, insertionsort_total_array)\n",
    "\n",
    "bubblesort_total_array = total_array_string.copy()\n",
    "bubble_time = runtime(bubblesort, bubblesort_total_array)\n",
    "\n",
    "mergesort_total_array = total_array_string.copy()\n",
    "merge_time = runtime(mergesort, mergesort_total_array)"
   ]
  },
  {
   "cell_type": "markdown",
   "metadata": {},
   "source": [
    "# TABLE AND GRAPH"
   ]
  },
  {
   "cell_type": "code",
   "execution_count": 9,
   "metadata": {},
   "outputs": [
    {
     "data": {
      "text/html": [
       "<div>\n",
       "<style scoped>\n",
       "    .dataframe tbody tr th:only-of-type {\n",
       "        vertical-align: middle;\n",
       "    }\n",
       "\n",
       "    .dataframe tbody tr th {\n",
       "        vertical-align: top;\n",
       "    }\n",
       "\n",
       "    .dataframe thead th {\n",
       "        text-align: right;\n",
       "    }\n",
       "</style>\n",
       "<table border=\"1\" class=\"dataframe\">\n",
       "  <thead>\n",
       "    <tr style=\"text-align: right;\">\n",
       "      <th></th>\n",
       "      <th>List Length</th>\n",
       "      <th>Quick Sort Runtime(ms)</th>\n",
       "      <th>Merge Sort Runtime(ms)</th>\n",
       "      <th>Bubble Sort Runtime(ms)</th>\n",
       "      <th>Insertion Sort Runtime(ms)</th>\n",
       "    </tr>\n",
       "  </thead>\n",
       "  <tbody>\n",
       "    <tr>\n",
       "      <th>0</th>\n",
       "      <td>200.0</td>\n",
       "      <td>0.3004</td>\n",
       "      <td>0.4233</td>\n",
       "      <td>1.5040</td>\n",
       "      <td>1.3740</td>\n",
       "    </tr>\n",
       "    <tr>\n",
       "      <th>1</th>\n",
       "      <td>400.0</td>\n",
       "      <td>0.7881</td>\n",
       "      <td>0.8817</td>\n",
       "      <td>5.9630</td>\n",
       "      <td>5.0072</td>\n",
       "    </tr>\n",
       "    <tr>\n",
       "      <th>2</th>\n",
       "      <td>600.0</td>\n",
       "      <td>1.0282</td>\n",
       "      <td>1.4659</td>\n",
       "      <td>14.2352</td>\n",
       "      <td>12.9876</td>\n",
       "    </tr>\n",
       "    <tr>\n",
       "      <th>3</th>\n",
       "      <td>800.0</td>\n",
       "      <td>1.3626</td>\n",
       "      <td>1.7617</td>\n",
       "      <td>26.5691</td>\n",
       "      <td>23.2335</td>\n",
       "    </tr>\n",
       "    <tr>\n",
       "      <th>4</th>\n",
       "      <td>1000.0</td>\n",
       "      <td>1.8188</td>\n",
       "      <td>2.3055</td>\n",
       "      <td>40.8241</td>\n",
       "      <td>34.3844</td>\n",
       "    </tr>\n",
       "  </tbody>\n",
       "</table>\n",
       "</div>"
      ],
      "text/plain": [
       "   List Length  Quick Sort Runtime(ms)  Merge Sort Runtime(ms)  \\\n",
       "0        200.0                  0.3004                  0.4233   \n",
       "1        400.0                  0.7881                  0.8817   \n",
       "2        600.0                  1.0282                  1.4659   \n",
       "3        800.0                  1.3626                  1.7617   \n",
       "4       1000.0                  1.8188                  2.3055   \n",
       "\n",
       "   Bubble Sort Runtime(ms)  Insertion Sort Runtime(ms)  \n",
       "0                   1.5040                      1.3740  \n",
       "1                   5.9630                      5.0072  \n",
       "2                  14.2352                     12.9876  \n",
       "3                  26.5691                     23.2335  \n",
       "4                  40.8241                     34.3844  "
      ]
     },
     "metadata": {},
     "output_type": "display_data"
    }
   ],
   "source": [
    "# Create a list with Numpy. \n",
    "data = np.array([n,quick_time, merge_time, bubble_time, insertion_time]).T\n",
    "\n",
    "# Convert the list to a dataframe with Pandas. \n",
    "df = pd.DataFrame(data)\n",
    "df.columns = ['List Length', 'Quick Sort Runtime(ms)', 'Merge Sort Runtime(ms)', 'Bubble Sort Runtime(ms)', 'Insertion Sort Runtime(ms)']\n",
    "display(df)"
   ]
  },
  {
   "cell_type": "code",
   "execution_count": 10,
   "metadata": {},
   "outputs": [
    {
     "data": {
      "text/plain": [
       "<matplotlib.legend.Legend at 0x15837da8>"
      ]
     },
     "execution_count": 10,
     "metadata": {},
     "output_type": "execute_result"
    },
    {
     "data": {
      "image/png": "[encoded data removed]",
      "text/plain": [
       "<Figure size 432x288 with 1 Axes>"
      ]
     },
     "metadata": {
      "needs_background": "light"
     },
     "output_type": "display_data"
    }
   ],
   "source": [
    "# Create a graph based on the dataframe. \n",
    "plt.plot(df['List Length'], df['Quick Sort Runtime(ms)'],label='Quick Sort')\n",
    "plt.plot(df['List Length'], df['Merge Sort Runtime(ms)'],label='Merge Sort')\n",
    "plt.plot(df['List Length'], df['Bubble Sort Runtime(ms)'],label='Bubble Sort')\n",
    "plt.plot(df['List Length'], df['Insertion Sort Runtime(ms)'],label='Insertion Sort')\n",
    "plt.xlabel('List Length')\n",
    "plt.ylabel('Runtime (ms)')\n",
    "plt.title('Sorting Runtimes')\n",
    "plt.legend()"
   ]
  },
  {
   "cell_type": "markdown",
   "metadata": {},
   "source": [
    "# CONCLUSION"
   ]
  },
  {
   "cell_type": "markdown",
   "metadata": {},
   "source": [
    "There are four type of soring algorithms used in this practice: quick sort, merge sort, bubble sort and insertion sort. \n",
    "The logics behind each sorting algorithms is as per below:\n",
    "\n",
    "- Quick Sort: Select an element as pivot, which is actually the 1st element in our algorithm. Then divide the list into 2 lists based on the pivot, with one list containing elements smaller than the pivot, while the other list are with bigger elements than the pivot. Again, we would like picking the first element as the pivot for each of the sub-lists, contine partioning.The smaller sub-lists are always on the left, while the biiger sub-lists are on the right. \n",
    "\n",
    "- Merge Sort: A sorting list is broken into 2 smaller lists midway. Then continue breaking the sub-lists into smaller lists, until there are multiple sub-lists with single element in them, which are considered as sorted lists. Then, we merge all these sorted sub-lists back to form one sorted list. \n",
    "\n",
    "- Bubble Sort: Compare all element one by one and sort them based on their values. In our algorithm, this process starts from the first element. If the 1st element with index of 0 is greater than the 2nd element with index of 1, we will sway their positions. Then we will continue this sorting process for the 2nd and 3rd element, and 3rd and 4th element, and so on. Once this is complete, then we will get the largest element sorted at the last index of (n-1). We would iterate this process until (n-2)th and (n-1)th element, which would result in the 2nd largest element at the index of (n-2). Repeating this iteration can result in a sorted list.\n",
    "\n",
    "- Insertion Sort: Compare the 2nd element with index of 1 as key with the 1st element. If the 2nd element is smaller, insert the key (2nd element in this case) before the 1st element. Then we will compare the 3rd element as key value with its previous element, and insert the key if the 3rd element is smaller than the 2nd element. We will repeat this iteration until the list is sorted. \n",
    "\n",
    "The big O notations and explainations for each sorting algorithm is shown as per below:\n",
    "- Quick Sort: O(nlog(n)) on average case with a small constant, while O(n^2) as worst case. \n",
    "- Merge Sort: O(nlog(n)) with a larger constant than Quick Sort's. \n",
    "- Bubble Sort: O(n^2) with a large constant. \n",
    "- Insertion Sort: O(n^2) with a small constant. \n",
    "\n",
    "Based on our practice results, we've validated that quick sort and merge sort holds the fastest runtimes out of the 4 algorithms, since they both have the same big O notation of O(nlog(n)). However, from the generated table, we can see quick sort is slightly faster than merge sort, which is due to its smaller contant. This is the reason why people tend to use quick sort more often than merge sort. Bubble sort and insertion are slower comparing to quick sort and merge sort, due to their bigger time complexity of O(n^2). We can see the exponential lines in the graph for them. Bubble sort is slower than insertion sort because of its bigger constant of the big O notation. These 2 sorting algorithms are not as popular as quick sort or merge sort becasue of their slower processing times.  "
   ]
  }
 ],
 "metadata": {
  "kernelspec": {
   "display_name": "Python 3",
   "language": "python",
   "name": "python3"
  },
  "language_info": {
   "codemirror_mode": {
    "name": "ipython",
    "version": 3
   },
   "file_extension": ".py",
   "mimetype": "text/x-python",
   "name": "python",
   "nbconvert_exporter": "python",
   "pygments_lexer": "ipython3",
   "version": "3.8.3"
  }
 },
 "nbformat": 4,
 "nbformat_minor": 4
}
