{
 "cells": [
  {
   "cell_type": "markdown",
   "metadata": {},
   "source": [
    "# INGEST"
   ]
  },
  {
   "cell_type": "code",
   "execution_count": 1,
   "metadata": {},
   "outputs": [],
   "source": [
    "import numpy as np\n",
    "import pandas as pd\n",
    "from random import seed\n",
    "from random import random\n",
    "import random\n",
    "import time\n",
    "import matplotlib.pyplot as plt\n",
    "import string"
   ]
  },
  {
   "cell_type": "markdown",
   "metadata": {},
   "source": [
    "# GENERATE RANDOM DATA"
   ]
  },
  {
   "cell_type": "code",
   "execution_count": 2,
   "metadata": {},
   "outputs": [],
   "source": [
    "np.random.seed(12345)\n",
    "n = [5000, 10000, 15000, 20000, 25000]"
   ]
  },
  {
   "cell_type": "code",
   "execution_count": 3,
   "metadata": {},
   "outputs": [],
   "source": [
    "# Create 5 arrays with integers. \n",
    "\n",
    "total_array_int = []\n",
    "for x in range(0, len(n)):\n",
    "    array = list(np.random.randint(0, 100000000, size=n[x]))\n",
    "    total_array_int.append(array)"
   ]
  },
  {
   "cell_type": "code",
   "execution_count": 4,
   "metadata": {},
   "outputs": [],
   "source": [
    "# Create 5 arrays with floats. \n",
    "\n",
    "total_array_float = []\n",
    "for x in range(0, len(n)):\n",
    "    array = list(np.random.uniform(0, 100000000, size=n[x]))\n",
    "    total_array_float.append(array)"
   ]
  },
  {
   "cell_type": "code",
   "execution_count": 5,
   "metadata": {},
   "outputs": [],
   "source": [
    "# Create 5 attays with strings. \n",
    "\n",
    "total_array_string = []\n",
    "for x in range(0, len(n)):\n",
    "    array = [\"\".join(random.choices(string.ascii_letters, k=15)) for _ in range (n[x])]\n",
    "    total_array_string.append(array)"
   ]
  },
  {
   "cell_type": "markdown",
   "metadata": {},
   "source": [
    "# DEFINE & CALL FUNCTIONS"
   ]
  },
  {
   "cell_type": "code",
   "execution_count": 6,
   "metadata": {},
   "outputs": [],
   "source": [
    "def find_smallest(array):\n",
    "    smallest = array[0]\n",
    "    smallest_index = 0\n",
    "    \n",
    "    for i in range(1, len(array)):\n",
    "        if array[i] < smallest:\n",
    "            smallest_index = i \n",
    "            smallest = array[i]\n",
    "    return smallest_index"
   ]
  },
  {
   "cell_type": "code",
   "execution_count": 7,
   "metadata": {},
   "outputs": [],
   "source": [
    "def selection_sort(array):\n",
    "    new_array = []\n",
    "    for i in range(1, len(array)):\n",
    "        smallest = find_smallest(array)\n",
    "        value = array.pop(smallest)\n",
    "        new_array.append(value)\n",
    "    return new_array   "
   ]
  },
  {
   "cell_type": "code",
   "execution_count": 8,
   "metadata": {},
   "outputs": [],
   "source": [
    "# Create a function to record sorting time. \n",
    "\n",
    "def sort_time(total_array):\n",
    "    sort_time = []\n",
    "    for x in range(0, len(n)):\n",
    "        start_time = time.time()\n",
    "        sorted_array = selection_sort(total_array[x])\n",
    "        end_time = time.time()\n",
    "        sort_time.append((end_time - start_time) * 1000)\n",
    "\n",
    "    return sort_time"
   ]
  },
  {
   "cell_type": "code",
   "execution_count": 9,
   "metadata": {},
   "outputs": [],
   "source": [
    "sort_time_int = sort_time(total_array_int)\n",
    "sort_time_float = sort_time(total_array_float)\n",
    "sort_time_string = sort_time(total_array_string)"
   ]
  },
  {
   "cell_type": "markdown",
   "metadata": {},
   "source": [
    "# CREATE TABLE & GRAPH"
   ]
  },
  {
   "cell_type": "code",
   "execution_count": 10,
   "metadata": {},
   "outputs": [
    {
     "data": {
      "text/html": [
       "<div>\n",
       "<style scoped>\n",
       "    .dataframe tbody tr th:only-of-type {\n",
       "        vertical-align: middle;\n",
       "    }\n",
       "\n",
       "    .dataframe tbody tr th {\n",
       "        vertical-align: top;\n",
       "    }\n",
       "\n",
       "    .dataframe thead th {\n",
       "        text-align: right;\n",
       "    }\n",
       "</style>\n",
       "<table border=\"1\" class=\"dataframe\">\n",
       "  <thead>\n",
       "    <tr style=\"text-align: right;\">\n",
       "      <th></th>\n",
       "      <th>Lengths of Array</th>\n",
       "      <th>Integer Sort Time(ms)</th>\n",
       "      <th>Float Sort Time(ms)</th>\n",
       "      <th>String Sort Time(ms)</th>\n",
       "    </tr>\n",
       "  </thead>\n",
       "  <tbody>\n",
       "    <tr>\n",
       "      <th>0</th>\n",
       "      <td>5000</td>\n",
       "      <td>658.262968</td>\n",
       "      <td>634.327888</td>\n",
       "      <td>627.328396</td>\n",
       "    </tr>\n",
       "    <tr>\n",
       "      <th>1</th>\n",
       "      <td>10000</td>\n",
       "      <td>2660.861731</td>\n",
       "      <td>2557.161570</td>\n",
       "      <td>2519.263744</td>\n",
       "    </tr>\n",
       "    <tr>\n",
       "      <th>2</th>\n",
       "      <td>15000</td>\n",
       "      <td>5910.197496</td>\n",
       "      <td>5726.685762</td>\n",
       "      <td>5776.527882</td>\n",
       "    </tr>\n",
       "    <tr>\n",
       "      <th>3</th>\n",
       "      <td>20000</td>\n",
       "      <td>10381.244183</td>\n",
       "      <td>10221.673489</td>\n",
       "      <td>10314.443827</td>\n",
       "    </tr>\n",
       "    <tr>\n",
       "      <th>4</th>\n",
       "      <td>25000</td>\n",
       "      <td>16177.744865</td>\n",
       "      <td>15976.282835</td>\n",
       "      <td>15807.763338</td>\n",
       "    </tr>\n",
       "  </tbody>\n",
       "</table>\n",
       "</div>"
      ],
      "text/plain": [
       "   Lengths of Array  Integer Sort Time(ms)  Float Sort Time(ms)  \\\n",
       "0              5000             658.262968           634.327888   \n",
       "1             10000            2660.861731          2557.161570   \n",
       "2             15000            5910.197496          5726.685762   \n",
       "3             20000           10381.244183         10221.673489   \n",
       "4             25000           16177.744865         15976.282835   \n",
       "\n",
       "   String Sort Time(ms)  \n",
       "0            627.328396  \n",
       "1           2519.263744  \n",
       "2           5776.527882  \n",
       "3          10314.443827  \n",
       "4          15807.763338  "
      ]
     },
     "execution_count": 10,
     "metadata": {},
     "output_type": "execute_result"
    }
   ],
   "source": [
    "data = {\"Lengths of Array\": [n[0], n[1], n[2], n[3], n[4]]}\n",
    "df = pd.DataFrame(data)\n",
    "df[\"Integer Sort Time(ms)\"] = sort_time_int\n",
    "df[\"Float Sort Time(ms)\"] = sort_time_float\n",
    "df[\"String Sort Time(ms)\"] = sort_time_string\n",
    "df"
   ]
  },
  {
   "cell_type": "code",
   "execution_count": 11,
   "metadata": {},
   "outputs": [
    {
     "data": {
      "text/plain": [
       "<matplotlib.legend.Legend at 0x14228808>"
      ]
     },
     "execution_count": 11,
     "metadata": {},
     "output_type": "execute_result"
    },
    {
     "data": {
      "image/png": "[encoded data removed]",
      "text/plain": [
       "<Figure size 432x288 with 1 Axes>"
      ]
     },
     "metadata": {
      "needs_background": "light"
     },
     "output_type": "display_data"
    }
   ],
   "source": [
    "plt.plot(df[\"Lengths of Array\"], df[\"Integer Sort Time(ms)\"], label=\"Integer Sort Time(ms)\")\n",
    "plt.plot(df[\"Lengths of Array\"], df[\"Float Sort Time(ms)\"], label=\"Float Sort Time(ms)\")\n",
    "plt.plot(df[\"Lengths of Array\"], df[\"String Sort Time(ms)\"], label=\"String Sort Time(ms)\")\n",
    "plt.xlabel(\"Lengths of Array\")\n",
    "plt.ylabel(\"Sort Time (ms)\")\n",
    "plt.legend()"
   ]
  },
  {
   "cell_type": "markdown",
   "metadata": {},
   "source": [
    "# CONCLUSION"
   ]
  },
  {
   "cell_type": "markdown",
   "metadata": {},
   "source": [
    "In this exercise, we've created an algorithm for selection sort, which would sort the data array from smallest to largest. First, it would scan through the whole list to find the smallest number recorded into a new list. After removing the smallest number from the data array, we'll scan the remaining data array to find out the second smallest number. Then we can remove it from the data array and add it to the new list after the previous recorded number. Repeat this step until the total of n numbers are scanned and sorted. This would take n! (factorial n) steps to complete, which gives a runtime of O(nx(1/2)n). However, since constants are being ignored in Big O notation, we would say the runtime for selection sort is O(n^2). \n",
    "\n",
    "Later we've compared the selection sort algorithm runtime among 3 different types: integer, float and string. From the resulting table and graph, we can see that the runtimes for all these 3 data types are very similar and close. However, as the size of the data array increase, its running increases exponentially, which alignes with the runtime of O(n^2). \n",
    "\n",
    "Selection sort is a very useful algorithm for data engineers, becasue many datasets need to be preprocessed with sorting before being applied in other applications, such as binary search. "
   ]
  }
 ],
 "metadata": {
  "kernelspec": {
   "display_name": "Python 3",
   "language": "python",
   "name": "python3"
  },
  "language_info": {
   "codemirror_mode": {
    "name": "ipython",
    "version": 3
   },
   "file_extension": ".py",
   "mimetype": "text/x-python",
   "name": "python",
   "nbconvert_exporter": "python",
   "pygments_lexer": "ipython3",
   "version": "3.8.3"
  }
 },
 "nbformat": 4,
 "nbformat_minor": 4
}
