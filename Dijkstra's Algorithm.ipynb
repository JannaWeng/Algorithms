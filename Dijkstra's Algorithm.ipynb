{
 "cells": [
  {
   "cell_type": "markdown",
   "metadata": {},
   "source": [
    "# INGEST"
   ]
  },
  {
   "cell_type": "code",
   "execution_count": 1,
   "metadata": {},
   "outputs": [],
   "source": [
    "import time\n",
    "import pandas as pd\n",
    "import numpy as np\n",
    "import seaborn as sns\n",
    "import matplotlib.pyplot as plt"
   ]
  },
  {
   "cell_type": "markdown",
   "metadata": {},
   "source": [
    "# GENERATE DATA"
   ]
  },
  {
   "cell_type": "code",
   "execution_count": 2,
   "metadata": {},
   "outputs": [],
   "source": [
    "graph={}\n",
    "graph['NYC'] = {}\n",
    "graph['NYC']['DC'] = 2\n",
    "graph['NYC']['Indianapolis'] = 11\n",
    "graph['NYC']['Pittsburg'] = 7\n",
    "\n",
    "graph['DC'] = {}\n",
    "graph['DC']['Atlanta'] = 2\n",
    "graph['Indianapolis'] = {}\n",
    "graph['Indianapolis']['Kansas City'] = 8\n",
    "graph['Pittsburg'] = {}\n",
    "graph['Pittsburg']['Cindinnati'] = 6\n",
    "\n",
    "graph['Atlanta'] = {}\n",
    "graph['Atlanta']['New Orleans'] = 2\n",
    "graph['Kansas City'] = {}\n",
    "graph['Kansas City']['Denvor'] = 7\n",
    "graph['Cindinnati'] = {}\n",
    "graph['Cindinnati']['St Louis'] = 8\n",
    "\n",
    "graph['New Orleans'] = {}\n",
    "graph['New Orleans']['Dallas'] = 2\n",
    "graph['Denvor'] = {}\n",
    "graph['Denvor']['Salt Lake City'] = 6\n",
    "graph['St Louis'] = {}\n",
    "graph['St Louis']['Okalahoma City'] = 7\n",
    "\n",
    "graph['Dallas'] = {}\n",
    "graph['Dallas']['Albuquerque'] = 2\n",
    "graph['Salt Lake City'] = {}\n",
    "graph['Salt Lake City']['Las Vegas'] = 9\n",
    "graph['Okalahoma City'] = {}\n",
    "graph['Okalahoma City']['Albuquerque'] = 9\n",
    "\n",
    "graph['Albuquerque'] = {}\n",
    "graph['Albuquerque']['Phoenix'] = 2\n",
    "\n",
    "graph['Phoenix'] = {}\n",
    "graph['Phoenix']['San Diego'] = 5\n",
    "graph['Phoenix']['Las Vegas'] = 2\n",
    "\n",
    "graph['Las Vegas'] = {}\n",
    "graph['Las Vegas']['San Diego'] = 2\n",
    "graph['Las Vegas']['Los Angeles'] = 5\n",
    "graph['San Diego'] = {}\n",
    "graph['San Diego']['Los Angeles'] = 2\n",
    "\n",
    "graph['Los Angeles']={}"
   ]
  },
  {
   "cell_type": "code",
   "execution_count": 3,
   "metadata": {},
   "outputs": [],
   "source": [
    "infinity = float('inf')\n",
    "costs = {}\n",
    "costs['DC'] = 2\n",
    "costs['Indianapolis'] = 11\n",
    "costs['Pittsburg'] = 7\n",
    "\n",
    "costs['Atlanta'] = infinity\n",
    "costs['Kansas City'] = infinity\n",
    "costs['Cindinnati'] = infinity\n",
    "costs['New Orleans'] = infinity\n",
    "costs['Denvor'] =  infinity\n",
    "costs['St Louis'] = infinity\n",
    "costs['Dallas'] =  infinity\n",
    "costs['Salt Lake City'] = infinity\n",
    "costs['Okalahoma City'] =  infinity\n",
    "costs['Albuquerque'] =  infinity\n",
    "costs['Phoenix'] = infinity\n",
    "costs['Las Vegas'] = infinity\n",
    "costs['San Diego'] = infinity\n",
    "costs['Los Angeles'] = infinity\n",
    "\n",
    "parents = {}\n",
    "parents['DC'] = 'NYC'\n",
    "parents['Indianapolis'] = 'NYC'\n",
    "parents['Pittsburg'] = 'NYC'\n",
    "parents['Los Angeles'] = None\n",
    "\n",
    "processed = []\n",
    "processed2 = []"
   ]
  },
  {
   "cell_type": "markdown",
   "metadata": {},
   "source": [
    "# DEFINE FUNCTIONS"
   ]
  },
  {
   "cell_type": "code",
   "execution_count": 4,
   "metadata": {},
   "outputs": [
    {
     "name": "stdout",
     "output_type": "stream",
     "text": [
      "The quickest way to get to LA from NYC is below: \n",
      "['NYC', 'Indianapolis', 'Kansas City', 'Denvor', 'Salt Lake City', 'Las Vegas', 'Los Angeles']\n",
      "\n",
      "The time of the quickest way to get to LA from NYC is 46 hours.\n"
     ]
    }
   ],
   "source": [
    "# Define Breadth-first Search function. \n",
    "def BFS(graph,start,goal):\n",
    "    explored = []\n",
    "    queue = [[start]]\n",
    "    \n",
    "    while queue:\n",
    "        path = queue.pop(0)\n",
    "        node = path[-1]\n",
    "        if node not in explored:\n",
    "            neighbors = graph[node]\n",
    "            for neighbor in neighbors:\n",
    "                new_path = list(path)\n",
    "                new_path.append(neighbor)\n",
    "                queue.append(new_path)\n",
    "                if neighbor == goal:\n",
    "                    return new_path\n",
    "            explored.append(node)\n",
    "    return False\n",
    "\n",
    "total_runtime=[]\n",
    "start_time = time.perf_counter()  \n",
    "route = BFS(graph,'NYC','Los Angeles')\n",
    "\n",
    "def total_cost(lst):\n",
    "    cost = 0\n",
    "    for i in range(len(lst)-1):\n",
    "        cost += graph[lst[i]][lst[i+1]]\n",
    "    return cost\n",
    "\n",
    "total_time1 = total_cost(route)\n",
    "\n",
    "print(f'The quickest way to get to LA from NYC is below: \\n{route}')\n",
    "print(f'\\nThe time of the quickest way to get to LA from NYC is {total_time1} hours.')\n",
    "\n",
    "end_time = time.perf_counter()\n",
    "runtime = (end_time - start_time) * 1000\n",
    "total_runtime.append(runtime)\n",
    "total_stops=[]\n",
    "total_stops.append(len(route))"
   ]
  },
  {
   "cell_type": "code",
   "execution_count": 5,
   "metadata": {},
   "outputs": [
    {
     "name": "stdout",
     "output_type": "stream",
     "text": [
      "The most optimal route to get to LA from NYC is below: \n",
      "['NYC', 'DC', 'Atlanta', 'New Orleans', 'Dallas', 'Albuquerque', 'Phoenix', 'Las Vegas', 'San Diego', 'Los Angeles']\n",
      "\n",
      "The time of the most optimal route to get to LA from NYC is 18 hours.\n"
     ]
    }
   ],
   "source": [
    "# Define Dijkstra's Algorithm Function. \n",
    "def find_lowest_cost_node(costs):\n",
    "    lowest_cost = float('inf')\n",
    "    lowest_cost_node = None\n",
    "    for node in costs:\n",
    "        cost = costs[node]\n",
    "        if cost < lowest_cost and node not in processed:\n",
    "            lowest_cost = cost\n",
    "            lowest_cost_node = node\n",
    "    return lowest_cost_node\n",
    "\n",
    "start_time = time.perf_counter()  \n",
    "node = find_lowest_cost_node(costs)\n",
    "\n",
    "while node is not None:\n",
    "    cost = costs[node]\n",
    "    neighbors = graph[node]\n",
    "    for n in neighbors.keys():\n",
    "        new_cost = cost + neighbors[n]\n",
    "        if costs[n] > new_cost:\n",
    "            costs[n] = new_cost\n",
    "            parents[n] = node\n",
    "    processed.append(node)\n",
    "    node = find_lowest_cost_node(costs) \n",
    "total_time2 = costs['Los Angeles']\n",
    "\n",
    "path = []\n",
    "current = 'Los Angeles'\n",
    "\n",
    "while current != 'NYC':\n",
    "    path.append(current)\n",
    "    current = parents[current]\n",
    "path.append('NYC')\n",
    "path.reverse()\n",
    "print(f'The most optimal route to get to LA from NYC is below: \\n{path}')\n",
    "print(f'\\nThe time of the most optimal route to get to LA from NYC is {total_time2} hours.')\n",
    "\n",
    "end_time = time.perf_counter()\n",
    "runtime = (end_time - start_time) * 1000\n",
    "total_runtime.append(runtime)\n",
    "total_stops.append(len(path))"
   ]
  },
  {
   "cell_type": "markdown",
   "metadata": {},
   "source": [
    "# TABLE AND GRAPHS"
   ]
  },
  {
   "cell_type": "code",
   "execution_count": 6,
   "metadata": {},
   "outputs": [
    {
     "data": {
      "text/html": [
       "<div>\n",
       "<style scoped>\n",
       "    .dataframe tbody tr th:only-of-type {\n",
       "        vertical-align: middle;\n",
       "    }\n",
       "\n",
       "    .dataframe tbody tr th {\n",
       "        vertical-align: top;\n",
       "    }\n",
       "\n",
       "    .dataframe thead th {\n",
       "        text-align: right;\n",
       "    }\n",
       "</style>\n",
       "<table border=\"1\" class=\"dataframe\">\n",
       "  <thead>\n",
       "    <tr style=\"text-align: right;\">\n",
       "      <th></th>\n",
       "      <th>Searching Type</th>\n",
       "      <th>Total Traveling Time (hrs)</th>\n",
       "      <th>Total Stops</th>\n",
       "      <th>Performance Time (ms)</th>\n",
       "    </tr>\n",
       "  </thead>\n",
       "  <tbody>\n",
       "    <tr>\n",
       "      <th>0</th>\n",
       "      <td>BFS</td>\n",
       "      <td>46</td>\n",
       "      <td>7</td>\n",
       "      <td>0.2439000000000746</td>\n",
       "    </tr>\n",
       "    <tr>\n",
       "      <th>1</th>\n",
       "      <td>Dijkstra's</td>\n",
       "      <td>18</td>\n",
       "      <td>10</td>\n",
       "      <td>0.5306000000000477</td>\n",
       "    </tr>\n",
       "  </tbody>\n",
       "</table>\n",
       "</div>"
      ],
      "text/plain": [
       "  Searching Type Total Traveling Time (hrs) Total Stops Performance Time (ms)\n",
       "0            BFS                         46           7    0.2439000000000746\n",
       "1     Dijkstra's                         18          10    0.5306000000000477"
      ]
     },
     "metadata": {},
     "output_type": "display_data"
    }
   ],
   "source": [
    "total_time = (total_time1, total_time2)\n",
    "total_time\n",
    "searching_type = ['BFS', \"Dijkstra's\"]\n",
    "data = np.array([searching_type,total_time, total_stops, total_runtime]).T\n",
    "df = pd.DataFrame(data)\n",
    "df.columns = ['Searching Type', 'Total Traveling Time (hrs)', 'Total Stops', 'Performance Time (ms)']\n",
    "display(df)"
   ]
  },
  {
   "cell_type": "code",
   "execution_count": 7,
   "metadata": {},
   "outputs": [
    {
     "data": {
      "image/png": "[encoded data removed]",
      "text/plain": [
       "<Figure size 1008x432 with 3 Axes>"
      ]
     },
     "metadata": {
      "needs_background": "light"
     },
     "output_type": "display_data"
    }
   ],
   "source": [
    "fig, ax = plt.subplots(nrows=1, ncols=3, figsize=(14,6))\n",
    "cat = ['Total Traveling Time (hrs)', 'Total Stops', 'Performance Time (ms)']\n",
    "for i, subplots in zip(cat, ax.flatten()):\n",
    "    ax = sns.barplot(x='Searching Type', y=i, data=df, ax=subplots)\n",
    "fig.tight_layout()"
   ]
  },
  {
   "cell_type": "markdown",
   "metadata": {},
   "source": [
    "# CONCLUSION"
   ]
  },
  {
   "cell_type": "markdown",
   "metadata": {},
   "source": [
    "Breadth_first search (BFS) and Dijkstra's algorithm are used in this practice to see the different paths in an directed weighted graph. \n",
    "\n",
    "Below explains how each searching algorithms work: \n",
    "\n",
    "- BFS uses queue data structure to find the quickest path in the graph traversal. BFS is a traversing algorithm with a selected starting node and traverse the graph layerwise thus exploring the neighbor nodes. Note that it must visit all current layer nodes before moving to the next layer. To avoid processing of the same node again, we use a boolean array recording all the processed nodes. To make the this process easy, we use a queue to store the nodes and mark it as processed until all its neighbors are checked. Note that the queue follows the rule of first in first out (FIFO). Thus, the neighbors of the nodes will be visited in the order in which they are inserted in the node.\n",
    "\n",
    "\n",
    "- Dijkstra's algorithm starts at a chosen node and it analyzes the graph to find the most optimized path betwen that node and all other nodes in the graph. The algorithm tracks the currently known most shortest weighted distance from each node to the starting node, and updates the values if a shorter path is found. Once the shortest path is found between the starting node and another node, that node is marked as \"explorer\" and added to the path. This process continues until all the nodes in the graph have been added to the path.\n",
    "\n",
    "Below explains how the runtime and big O notication of each searching algorithms: \n",
    "\n",
    "- BFS follows a big O notation of O(V+E), where V is the number of vertices(nodes) and E is the number of edges. It takes O(V) time to add nodes to the queue with O(1) for each node/vertex, and follows O(1) for each edge (connection).\n",
    "\n",
    "- Dijkstra's algorithm follows a big O notation of O((V+E)* log(V)), where V is the number of vertices(nodes) and E is the number of edges.\n",
    "\n",
    "In our exercise, V=18 and E=21. Thus, the Big O notation for BFS is O(39), while it is O(49) for Dijkstra's, which match the results from our graph(3) that BFS is faster than Dijkstra's. The resulted stopping cities from BFS is less than Dijstra's (7 vs. 10). Thus, BFS is ideal is we would like a faster algorithm with less stopping points. However, since the traveling hours from Dijkstra's is much less than from BFS (18 vs. 46), we can consider Dijkstra's algorithm if we would like the most optimized path with the least hours.  "
   ]
  }
 ],
 "metadata": {
  "kernelspec": {
   "display_name": "Python 3",
   "language": "python",
   "name": "python3"
  },
  "language_info": {
   "codemirror_mode": {
    "name": "ipython",
    "version": 3
   },
   "file_extension": ".py",
   "mimetype": "text/x-python",
   "name": "python",
   "nbconvert_exporter": "python",
   "pygments_lexer": "ipython3",
   "version": "3.8.3"
  }
 },
 "nbformat": 4,
 "nbformat_minor": 4
}
